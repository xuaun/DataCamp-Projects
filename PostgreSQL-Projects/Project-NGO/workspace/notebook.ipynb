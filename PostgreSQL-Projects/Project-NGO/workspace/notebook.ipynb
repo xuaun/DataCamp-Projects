{
 "cells": [
  {
   "cell_type": "markdown",
   "id": "32803968-253d-4647-9262-8be3fa184271",
   "metadata": {},
   "source": [
    "![ngo_project_image](ngo_project_image.jpg)\n",
    "\n",
    "GoodThought NGO has been a catalyst for positive change, focusing its efforts on education, healthcare, and sustainable development to make a significant difference in communities worldwide. With this mission, GoodThought has orchestrated an array of assignments aimed at uplifting underprivileged populations and fostering long-term growth.\n",
    "\n",
    "This project offers a hands-on opportunity to explore how data-driven insights can direct and enhance these humanitarian efforts. In this project, you'll engage with the GoodThought PostgreSQL database, which encapsulates detailed records of assignments, funding, impacts, and donor activities from 2010 to 2023. This comprehensive dataset includes:\n",
    "\n",
    "- **`Assignments`:** Details about each project, including its name, duration (start and end dates), budget, geographical region, and the impact score.\n",
    "- **`Donations`:** Records of financial contributions, linked to specific donors and assignments, highlighting how financial support is allocated and utilized.\n",
    "- **`Donors`:** Information on individuals and organizations that fund GoodThought’s projects, including donor types.\n",
    "\n",
    "Refer to the below ERD diagram for a visual representation of the relationships between these data tables:\n",
    "<img src=\"erd.png\" alt=\"ERD\" width=\"50%\" height=\"50%\">\n",
    "\n",
    "\n",
    "You will execute SQL queries to answer two questions, as listed in the instructions. Good luck!\n"
   ]
  },
  {
   "cell_type": "code",
   "execution_count": 24,
   "id": "f58d10e3-87ce-4f38-819a-a8549d1e1960",
   "metadata": {
    "customType": "sql",
    "dataFrameVariableName": "df",
    "executionCancelledAt": null,
    "executionTime": null,
    "lastExecutedAt": null,
    "lastExecutedByKernel": null,
    "lastScheduledRunId": null,
    "lastSuccessfullyExecutedCode": null,
    "outputsMetadata": {
     "0": {
      "height": 50,
      "tableState": {
       "customFilter": {
        "const": {
         "type": "boolean",
         "valid": true,
         "value": true
        },
        "id": "bfc4d90e-1a2e-42f1-92fe-c076537cc210",
        "nodeType": "const"
       },
       "quickFilterText": ""
      },
      "type": "dataFrame"
     }
    },
    "sqlCellMode": "dataFrame",
    "sqlSource": {
     "integrationId": "89e17161-a224-4a8a-846b-0adc0fe7a4b1",
     "integrationType": "postgresql",
     "type": "integration"
    },
    "vscode": {
     "languageId": "sql"
    }
   },
   "outputs": [
    {
     "data": {
      "application/com.datacamp.data-table.v2+json": {
       "table": {
        "data": {
         "assignment_id": [
          1,
          2,
          3,
          4,
          5
         ],
         "assignment_name": [
          "Assignment_1",
          "Assignment_2",
          "Assignment_3",
          "Assignment_4",
          "Assignment_5"
         ],
         "budget": [
          -32322.03,
          57278.4,
          40414.51,
          31732.48,
          13548.22
         ],
         "end_date": [
          "2021-12-04T00:00:00.000",
          "2020-11-28T00:00:00.000",
          "2022-03-17T00:00:00.000",
          "2022-05-17T00:00:00.000",
          "2021-07-10T00:00:00.000"
         ],
         "impact_score": [
          5.55,
          1.45,
          2.34,
          7.05,
          5.29
         ],
         "index": [
          0,
          1,
          2,
          3,
          4
         ],
         "region": [
          "West",
          "South",
          "West",
          "East",
          "North"
         ],
         "start_date": [
          "2021-10-17T00:00:00.000",
          "2020-10-26T00:00:00.000",
          "2021-08-11T00:00:00.000",
          "2021-11-22T00:00:00.000",
          "2020-11-22T00:00:00.000"
         ]
        },
        "schema": {
         "fields": [
          {
           "name": "index",
           "type": "integer"
          },
          {
           "name": "assignment_id",
           "type": "integer"
          },
          {
           "name": "assignment_name",
           "type": "string"
          },
          {
           "name": "start_date",
           "type": "datetime"
          },
          {
           "name": "end_date",
           "type": "datetime"
          },
          {
           "name": "budget",
           "type": "number"
          },
          {
           "name": "region",
           "type": "string"
          },
          {
           "name": "impact_score",
           "type": "number"
          }
         ],
         "pandas_version": "1.4.0",
         "primaryKey": [
          "index"
         ]
        }
       },
       "total_rows": 5,
       "truncation_type": null
      },
      "text/html": [
       "<div>\n",
       "<style scoped>\n",
       "    .dataframe tbody tr th:only-of-type {\n",
       "        vertical-align: middle;\n",
       "    }\n",
       "\n",
       "    .dataframe tbody tr th {\n",
       "        vertical-align: top;\n",
       "    }\n",
       "\n",
       "    .dataframe thead th {\n",
       "        text-align: right;\n",
       "    }\n",
       "</style>\n",
       "<table border=\"1\" class=\"dataframe\">\n",
       "  <thead>\n",
       "    <tr style=\"text-align: right;\">\n",
       "      <th></th>\n",
       "      <th>assignment_id</th>\n",
       "      <th>assignment_name</th>\n",
       "      <th>start_date</th>\n",
       "      <th>end_date</th>\n",
       "      <th>budget</th>\n",
       "      <th>region</th>\n",
       "      <th>impact_score</th>\n",
       "    </tr>\n",
       "  </thead>\n",
       "  <tbody>\n",
       "    <tr>\n",
       "      <th>0</th>\n",
       "      <td>1</td>\n",
       "      <td>Assignment_1</td>\n",
       "      <td>2021-10-17</td>\n",
       "      <td>2021-12-04</td>\n",
       "      <td>-32322.03</td>\n",
       "      <td>West</td>\n",
       "      <td>5.55</td>\n",
       "    </tr>\n",
       "    <tr>\n",
       "      <th>1</th>\n",
       "      <td>2</td>\n",
       "      <td>Assignment_2</td>\n",
       "      <td>2020-10-26</td>\n",
       "      <td>2020-11-28</td>\n",
       "      <td>57278.40</td>\n",
       "      <td>South</td>\n",
       "      <td>1.45</td>\n",
       "    </tr>\n",
       "    <tr>\n",
       "      <th>2</th>\n",
       "      <td>3</td>\n",
       "      <td>Assignment_3</td>\n",
       "      <td>2021-08-11</td>\n",
       "      <td>2022-03-17</td>\n",
       "      <td>40414.51</td>\n",
       "      <td>West</td>\n",
       "      <td>2.34</td>\n",
       "    </tr>\n",
       "    <tr>\n",
       "      <th>3</th>\n",
       "      <td>4</td>\n",
       "      <td>Assignment_4</td>\n",
       "      <td>2021-11-22</td>\n",
       "      <td>2022-05-17</td>\n",
       "      <td>31732.48</td>\n",
       "      <td>East</td>\n",
       "      <td>7.05</td>\n",
       "    </tr>\n",
       "    <tr>\n",
       "      <th>4</th>\n",
       "      <td>5</td>\n",
       "      <td>Assignment_5</td>\n",
       "      <td>2020-11-22</td>\n",
       "      <td>2021-07-10</td>\n",
       "      <td>13548.22</td>\n",
       "      <td>North</td>\n",
       "      <td>5.29</td>\n",
       "    </tr>\n",
       "  </tbody>\n",
       "</table>\n",
       "</div>"
      ],
      "text/plain": [
       "   assignment_id assignment_name start_date  ...    budget  region impact_score\n",
       "0              1    Assignment_1 2021-10-17  ... -32322.03    West         5.55\n",
       "1              2    Assignment_2 2020-10-26  ...  57278.40   South         1.45\n",
       "2              3    Assignment_3 2021-08-11  ...  40414.51    West         2.34\n",
       "3              4    Assignment_4 2021-11-22  ...  31732.48    East         7.05\n",
       "4              5    Assignment_5 2020-11-22  ...  13548.22   North         5.29\n",
       "\n",
       "[5 rows x 7 columns]"
      ]
     },
     "execution_count": 24,
     "metadata": {},
     "output_type": "execute_result"
    }
   ],
   "source": [
    "SELECT *\n",
    "FROM public.assignments\n",
    "LIMIT 5;"
   ]
  },
  {
   "cell_type": "code",
   "execution_count": 25,
   "id": "456d96c3-1a67-457d-aa8c-435b163a3aef",
   "metadata": {
    "customType": "sql",
    "dataFrameVariableName": "df1",
    "executionCancelledAt": null,
    "executionTime": 801,
    "lastExecutedAt": 1734469653769,
    "lastExecutedByKernel": "f32de3da-e6d9-49b7-9432-fb7d11b7977a",
    "lastScheduledRunId": null,
    "lastSuccessfullyExecutedCode": "SELECT *\nFROM public.donations\nLIMIT 5;",
    "outputsMetadata": {
     "0": {
      "height": 50,
      "tableState": {
       "customFilter": {
        "const": {
         "type": "boolean",
         "valid": true,
         "value": true
        },
        "id": "bfc4d90e-1a2e-42f1-92fe-c076537cc210",
        "nodeType": "const"
       },
       "quickFilterText": ""
      },
      "type": "dataFrame"
     }
    },
    "sqlCellMode": "dataFrame",
    "sqlSource": {
     "integrationId": "89e17161-a224-4a8a-846b-0adc0fe7a4b1",
     "integrationType": "postgresql",
     "type": "integration"
    },
    "vscode": {
     "languageId": "sql"
    }
   },
   "outputs": [
    {
     "data": {
      "application/com.datacamp.data-table.v2+json": {
       "table": {
        "data": {
         "amount": [
          271.36,
          251.49,
          528.38,
          730.36,
          285.96
         ],
         "assignment_id": [
          4226,
          1323,
          4881,
          1237,
          1626
         ],
         "donation_date": [
          "2021-08-21T00:00:00.000",
          "2021-10-15T00:00:00.000",
          "2020-03-03T00:00:00.000",
          "2021-02-06T00:00:00.000",
          "2022-03-05T00:00:00.000"
         ],
         "donation_id": [
          1,
          2,
          3,
          4,
          5
         ],
         "donor_id": [
          2733,
          2608,
          1654,
          3265,
          4932
         ],
         "index": [
          0,
          1,
          2,
          3,
          4
         ]
        },
        "schema": {
         "fields": [
          {
           "name": "index",
           "type": "integer"
          },
          {
           "name": "donation_id",
           "type": "integer"
          },
          {
           "name": "donor_id",
           "type": "integer"
          },
          {
           "name": "amount",
           "type": "number"
          },
          {
           "name": "donation_date",
           "type": "datetime",
           "tz": "UTC"
          },
          {
           "name": "assignment_id",
           "type": "integer"
          }
         ],
         "pandas_version": "1.4.0",
         "primaryKey": [
          "index"
         ]
        }
       },
       "total_rows": 5,
       "truncation_type": null
      },
      "text/html": [
       "<div>\n",
       "<style scoped>\n",
       "    .dataframe tbody tr th:only-of-type {\n",
       "        vertical-align: middle;\n",
       "    }\n",
       "\n",
       "    .dataframe tbody tr th {\n",
       "        vertical-align: top;\n",
       "    }\n",
       "\n",
       "    .dataframe thead th {\n",
       "        text-align: right;\n",
       "    }\n",
       "</style>\n",
       "<table border=\"1\" class=\"dataframe\">\n",
       "  <thead>\n",
       "    <tr style=\"text-align: right;\">\n",
       "      <th></th>\n",
       "      <th>donation_id</th>\n",
       "      <th>donor_id</th>\n",
       "      <th>amount</th>\n",
       "      <th>donation_date</th>\n",
       "      <th>assignment_id</th>\n",
       "    </tr>\n",
       "  </thead>\n",
       "  <tbody>\n",
       "    <tr>\n",
       "      <th>0</th>\n",
       "      <td>1</td>\n",
       "      <td>2733</td>\n",
       "      <td>271.36</td>\n",
       "      <td>2021-08-21 00:00:00+00:00</td>\n",
       "      <td>4226</td>\n",
       "    </tr>\n",
       "    <tr>\n",
       "      <th>1</th>\n",
       "      <td>2</td>\n",
       "      <td>2608</td>\n",
       "      <td>251.49</td>\n",
       "      <td>2021-10-15 00:00:00+00:00</td>\n",
       "      <td>1323</td>\n",
       "    </tr>\n",
       "    <tr>\n",
       "      <th>2</th>\n",
       "      <td>3</td>\n",
       "      <td>1654</td>\n",
       "      <td>528.38</td>\n",
       "      <td>2020-03-03 00:00:00+00:00</td>\n",
       "      <td>4881</td>\n",
       "    </tr>\n",
       "    <tr>\n",
       "      <th>3</th>\n",
       "      <td>4</td>\n",
       "      <td>3265</td>\n",
       "      <td>730.36</td>\n",
       "      <td>2021-02-06 00:00:00+00:00</td>\n",
       "      <td>1237</td>\n",
       "    </tr>\n",
       "    <tr>\n",
       "      <th>4</th>\n",
       "      <td>5</td>\n",
       "      <td>4932</td>\n",
       "      <td>285.96</td>\n",
       "      <td>2022-03-05 00:00:00+00:00</td>\n",
       "      <td>1626</td>\n",
       "    </tr>\n",
       "  </tbody>\n",
       "</table>\n",
       "</div>"
      ],
      "text/plain": [
       "   donation_id  donor_id  amount             donation_date  assignment_id\n",
       "0            1      2733  271.36 2021-08-21 00:00:00+00:00           4226\n",
       "1            2      2608  251.49 2021-10-15 00:00:00+00:00           1323\n",
       "2            3      1654  528.38 2020-03-03 00:00:00+00:00           4881\n",
       "3            4      3265  730.36 2021-02-06 00:00:00+00:00           1237\n",
       "4            5      4932  285.96 2022-03-05 00:00:00+00:00           1626"
      ]
     },
     "execution_count": 25,
     "metadata": {},
     "output_type": "execute_result"
    }
   ],
   "source": [
    "SELECT *\n",
    "FROM public.donations\n",
    "LIMIT 5;"
   ]
  },
  {
   "cell_type": "code",
   "execution_count": 26,
   "id": "25940259-3266-4d84-8533-1a416cc27dbd",
   "metadata": {
    "customType": "sql",
    "dataFrameVariableName": "df2",
    "executionCancelledAt": null,
    "executionTime": null,
    "lastExecutedAt": null,
    "lastExecutedByKernel": null,
    "lastScheduledRunId": null,
    "lastSuccessfullyExecutedCode": null,
    "outputsMetadata": {
     "0": {
      "height": 50,
      "tableState": {
       "customFilter": {
        "const": {
         "type": "boolean",
         "valid": true,
         "value": true
        },
        "id": "bfc4d90e-1a2e-42f1-92fe-c076537cc210",
        "nodeType": "const"
       },
       "quickFilterText": ""
      },
      "type": "dataFrame"
     }
    },
    "sqlCellMode": "dataFrame",
    "sqlSource": {
     "integrationId": "89e17161-a224-4a8a-846b-0adc0fe7a4b1",
     "integrationType": "postgresql",
     "type": "integration"
    },
    "vscode": {
     "languageId": "sql"
    }
   },
   "outputs": [
    {
     "data": {
      "application/com.datacamp.data-table.v2+json": {
       "table": {
        "data": {
         "donor_id": [
          1,
          2,
          3,
          4,
          5
         ],
         "donor_name": [
          "Donor_1",
          "Donor_2",
          "Donor_3",
          "Donor_4",
          "Donor_5"
         ],
         "donor_type": [
          "Individual",
          "Organization",
          "Individual",
          "Organization",
          "Organization"
         ],
         "index": [
          0,
          1,
          2,
          3,
          4
         ]
        },
        "schema": {
         "fields": [
          {
           "name": "index",
           "type": "integer"
          },
          {
           "name": "donor_id",
           "type": "integer"
          },
          {
           "name": "donor_name",
           "type": "string"
          },
          {
           "name": "donor_type",
           "type": "string"
          }
         ],
         "pandas_version": "1.4.0",
         "primaryKey": [
          "index"
         ]
        }
       },
       "total_rows": 5,
       "truncation_type": null
      },
      "text/html": [
       "<div>\n",
       "<style scoped>\n",
       "    .dataframe tbody tr th:only-of-type {\n",
       "        vertical-align: middle;\n",
       "    }\n",
       "\n",
       "    .dataframe tbody tr th {\n",
       "        vertical-align: top;\n",
       "    }\n",
       "\n",
       "    .dataframe thead th {\n",
       "        text-align: right;\n",
       "    }\n",
       "</style>\n",
       "<table border=\"1\" class=\"dataframe\">\n",
       "  <thead>\n",
       "    <tr style=\"text-align: right;\">\n",
       "      <th></th>\n",
       "      <th>donor_id</th>\n",
       "      <th>donor_name</th>\n",
       "      <th>donor_type</th>\n",
       "    </tr>\n",
       "  </thead>\n",
       "  <tbody>\n",
       "    <tr>\n",
       "      <th>0</th>\n",
       "      <td>1</td>\n",
       "      <td>Donor_1</td>\n",
       "      <td>Individual</td>\n",
       "    </tr>\n",
       "    <tr>\n",
       "      <th>1</th>\n",
       "      <td>2</td>\n",
       "      <td>Donor_2</td>\n",
       "      <td>Organization</td>\n",
       "    </tr>\n",
       "    <tr>\n",
       "      <th>2</th>\n",
       "      <td>3</td>\n",
       "      <td>Donor_3</td>\n",
       "      <td>Individual</td>\n",
       "    </tr>\n",
       "    <tr>\n",
       "      <th>3</th>\n",
       "      <td>4</td>\n",
       "      <td>Donor_4</td>\n",
       "      <td>Organization</td>\n",
       "    </tr>\n",
       "    <tr>\n",
       "      <th>4</th>\n",
       "      <td>5</td>\n",
       "      <td>Donor_5</td>\n",
       "      <td>Organization</td>\n",
       "    </tr>\n",
       "  </tbody>\n",
       "</table>\n",
       "</div>"
      ],
      "text/plain": [
       "   donor_id donor_name    donor_type\n",
       "0         1    Donor_1    Individual\n",
       "1         2    Donor_2  Organization\n",
       "2         3    Donor_3    Individual\n",
       "3         4    Donor_4  Organization\n",
       "4         5    Donor_5  Organization"
      ]
     },
     "execution_count": 26,
     "metadata": {},
     "output_type": "execute_result"
    }
   ],
   "source": [
    "SELECT *\n",
    "FROM public.donors\n",
    "LIMIT 5;"
   ]
  },
  {
   "cell_type": "code",
   "execution_count": 27,
   "id": "b9c29e39-7d27-4a41-b9f6-553eb2881519",
   "metadata": {
    "customType": "sql",
    "dataFrameVariableName": "highest_donation_assignments",
    "executionCancelledAt": null,
    "executionTime": null,
    "lastExecutedAt": null,
    "lastExecutedByKernel": null,
    "lastScheduledRunId": null,
    "lastSuccessfullyExecutedCode": null,
    "outputsMetadata": {
     "0": {
      "height": 50,
      "tableState": {
       "customFilter": {
        "const": {
         "type": "boolean",
         "valid": true,
         "value": true
        },
        "id": "bfc4d90e-1a2e-42f1-92fe-c076537cc210",
        "nodeType": "const"
       },
       "quickFilterText": ""
      },
      "type": "dataFrame"
     }
    },
    "sqlCellMode": "dataFrame",
    "sqlSource": {
     "integrationId": "89e17161-a224-4a8a-846b-0adc0fe7a4b1",
     "integrationType": "postgresql",
     "type": "integration"
    },
    "vscode": {
     "languageId": "sql"
    }
   },
   "outputs": [
    {
     "data": {
      "application/com.datacamp.data-table.v2+json": {
       "table": {
        "data": {
         "assignment_name": [
          "Assignment_3033",
          "Assignment_300",
          "Assignment_4114",
          "Assignment_1765",
          "Assignment_268"
         ],
         "donor_type": [
          "Individual",
          "Organization",
          "Organization",
          "Organization",
          "Individual"
         ],
         "index": [
          0,
          1,
          2,
          3,
          4
         ],
         "region": [
          "East",
          "West",
          "North",
          "West",
          "East"
         ],
         "rounded_total_donation_amount": [
          3840.66,
          3133.98,
          2778.57,
          2626.98,
          2488.69
         ]
        },
        "schema": {
         "fields": [
          {
           "name": "index",
           "type": "integer"
          },
          {
           "name": "assignment_name",
           "type": "string"
          },
          {
           "name": "region",
           "type": "string"
          },
          {
           "name": "rounded_total_donation_amount",
           "type": "number"
          },
          {
           "name": "donor_type",
           "type": "string"
          }
         ],
         "pandas_version": "1.4.0",
         "primaryKey": [
          "index"
         ]
        }
       },
       "total_rows": 5,
       "truncation_type": null
      },
      "text/html": [
       "<div>\n",
       "<style scoped>\n",
       "    .dataframe tbody tr th:only-of-type {\n",
       "        vertical-align: middle;\n",
       "    }\n",
       "\n",
       "    .dataframe tbody tr th {\n",
       "        vertical-align: top;\n",
       "    }\n",
       "\n",
       "    .dataframe thead th {\n",
       "        text-align: right;\n",
       "    }\n",
       "</style>\n",
       "<table border=\"1\" class=\"dataframe\">\n",
       "  <thead>\n",
       "    <tr style=\"text-align: right;\">\n",
       "      <th></th>\n",
       "      <th>assignment_name</th>\n",
       "      <th>region</th>\n",
       "      <th>rounded_total_donation_amount</th>\n",
       "      <th>donor_type</th>\n",
       "    </tr>\n",
       "  </thead>\n",
       "  <tbody>\n",
       "    <tr>\n",
       "      <th>0</th>\n",
       "      <td>Assignment_3033</td>\n",
       "      <td>East</td>\n",
       "      <td>3840.66</td>\n",
       "      <td>Individual</td>\n",
       "    </tr>\n",
       "    <tr>\n",
       "      <th>1</th>\n",
       "      <td>Assignment_300</td>\n",
       "      <td>West</td>\n",
       "      <td>3133.98</td>\n",
       "      <td>Organization</td>\n",
       "    </tr>\n",
       "    <tr>\n",
       "      <th>2</th>\n",
       "      <td>Assignment_4114</td>\n",
       "      <td>North</td>\n",
       "      <td>2778.57</td>\n",
       "      <td>Organization</td>\n",
       "    </tr>\n",
       "    <tr>\n",
       "      <th>3</th>\n",
       "      <td>Assignment_1765</td>\n",
       "      <td>West</td>\n",
       "      <td>2626.98</td>\n",
       "      <td>Organization</td>\n",
       "    </tr>\n",
       "    <tr>\n",
       "      <th>4</th>\n",
       "      <td>Assignment_268</td>\n",
       "      <td>East</td>\n",
       "      <td>2488.69</td>\n",
       "      <td>Individual</td>\n",
       "    </tr>\n",
       "  </tbody>\n",
       "</table>\n",
       "</div>"
      ],
      "text/plain": [
       "   assignment_name region  rounded_total_donation_amount    donor_type\n",
       "0  Assignment_3033   East                        3840.66    Individual\n",
       "1   Assignment_300   West                        3133.98  Organization\n",
       "2  Assignment_4114  North                        2778.57  Organization\n",
       "3  Assignment_1765   West                        2626.98  Organization\n",
       "4   Assignment_268   East                        2488.69    Individual"
      ]
     },
     "execution_count": 27,
     "metadata": {},
     "output_type": "execute_result"
    }
   ],
   "source": [
    "-- highest_donation_assignments\n",
    "SELECT \n",
    "\ta.assignment_name,\n",
    "\ta.region,\n",
    "\tROUND(SUM(d.amount), 2) AS rounded_total_donation_amount,\n",
    "\tdr.donor_type\n",
    "FROM assignments AS a\n",
    "INNER JOIN donations AS d\n",
    "USING(assignment_id)\n",
    "INNER JOIN donors AS dr\n",
    "USING(donor_id)\n",
    "GROUP BY assignment_name, region, donor_type\n",
    "ORDER BY rounded_total_donation_amount DESC\n",
    "LIMIT 5;"
   ]
  },
  {
   "cell_type": "code",
   "execution_count": 28,
   "id": "7ffa5c94-fda1-4b9d-b8f3-a6442b00e423",
   "metadata": {
    "customType": "sql",
    "dataFrameVariableName": "top_regional_impact_assignments",
    "executionCancelledAt": null,
    "executionTime": null,
    "lastExecutedAt": null,
    "lastExecutedByKernel": null,
    "lastScheduledRunId": null,
    "lastSuccessfullyExecutedCode": null,
    "outputsMetadata": {
     "0": {
      "height": 50,
      "tableState": {
       "customFilter": {
        "const": {
         "type": "boolean",
         "valid": true,
         "value": true
        },
        "id": "bfc4d90e-1a2e-42f1-92fe-c076537cc210",
        "nodeType": "const"
       },
       "quickFilterText": ""
      },
      "type": "dataFrame"
     }
    },
    "sqlCellMode": "dataFrame",
    "sqlSource": {
     "integrationId": "89e17161-a224-4a8a-846b-0adc0fe7a4b1",
     "integrationType": "postgresql",
     "type": "integration"
    },
    "vscode": {
     "languageId": "sql"
    }
   },
   "outputs": [
    {
     "data": {
      "application/com.datacamp.data-table.v2+json": {
       "table": {
        "data": {
         "assignment_name": [
          "Assignment_316",
          "Assignment_2253",
          "Assignment_3547",
          "Assignment_3764"
         ],
         "impact_score": [
          10,
          9.99,
          10,
          9.99
         ],
         "index": [
          0,
          1,
          2,
          3
         ],
         "num_total_donations": [
          2,
          1,
          1,
          1
         ],
         "region": [
          "East",
          "North",
          "South",
          "West"
         ]
        },
        "schema": {
         "fields": [
          {
           "name": "index",
           "type": "integer"
          },
          {
           "name": "assignment_name",
           "type": "string"
          },
          {
           "name": "region",
           "type": "string"
          },
          {
           "name": "impact_score",
           "type": "number"
          },
          {
           "name": "num_total_donations",
           "type": "integer"
          }
         ],
         "pandas_version": "1.4.0",
         "primaryKey": [
          "index"
         ]
        }
       },
       "total_rows": 4,
       "truncation_type": null
      },
      "text/html": [
       "<div>\n",
       "<style scoped>\n",
       "    .dataframe tbody tr th:only-of-type {\n",
       "        vertical-align: middle;\n",
       "    }\n",
       "\n",
       "    .dataframe tbody tr th {\n",
       "        vertical-align: top;\n",
       "    }\n",
       "\n",
       "    .dataframe thead th {\n",
       "        text-align: right;\n",
       "    }\n",
       "</style>\n",
       "<table border=\"1\" class=\"dataframe\">\n",
       "  <thead>\n",
       "    <tr style=\"text-align: right;\">\n",
       "      <th></th>\n",
       "      <th>assignment_name</th>\n",
       "      <th>region</th>\n",
       "      <th>impact_score</th>\n",
       "      <th>num_total_donations</th>\n",
       "    </tr>\n",
       "  </thead>\n",
       "  <tbody>\n",
       "    <tr>\n",
       "      <th>0</th>\n",
       "      <td>Assignment_316</td>\n",
       "      <td>East</td>\n",
       "      <td>10.00</td>\n",
       "      <td>2</td>\n",
       "    </tr>\n",
       "    <tr>\n",
       "      <th>1</th>\n",
       "      <td>Assignment_2253</td>\n",
       "      <td>North</td>\n",
       "      <td>9.99</td>\n",
       "      <td>1</td>\n",
       "    </tr>\n",
       "    <tr>\n",
       "      <th>2</th>\n",
       "      <td>Assignment_3547</td>\n",
       "      <td>South</td>\n",
       "      <td>10.00</td>\n",
       "      <td>1</td>\n",
       "    </tr>\n",
       "    <tr>\n",
       "      <th>3</th>\n",
       "      <td>Assignment_3764</td>\n",
       "      <td>West</td>\n",
       "      <td>9.99</td>\n",
       "      <td>1</td>\n",
       "    </tr>\n",
       "  </tbody>\n",
       "</table>\n",
       "</div>"
      ],
      "text/plain": [
       "   assignment_name region  impact_score  num_total_donations\n",
       "0   Assignment_316   East         10.00                    2\n",
       "1  Assignment_2253  North          9.99                    1\n",
       "2  Assignment_3547  South         10.00                    1\n",
       "3  Assignment_3764   West          9.99                    1"
      ]
     },
     "execution_count": 28,
     "metadata": {},
     "output_type": "execute_result"
    }
   ],
   "source": [
    "-- top_regional_impact_assignments\n",
    "SELECT\n",
    "\ta.assignment_name,\n",
    "\ta.region,\n",
    "\ta.impact_score,\n",
    "\td.num_total_donations\n",
    "FROM assignments AS a\n",
    "INNER JOIN (\n",
    "\tSELECT assignment_id, COUNT(*) AS num_total_donations\n",
    "\tFROM donations\n",
    "\tWHERE amount <> 0\n",
    "\tGROUP BY assignment_id\n",
    ") AS d\n",
    "USING(assignment_id)\n",
    "INNER JOIN (\n",
    "\tSELECT assignment_id, ROW_NUMBER() OVER(PARTITION BY region ORDER BY impact_score DESC) AS rank\n",
    "\tFROM assignments\n",
    ") AS sub_rank\n",
    "USING(assignment_id)\n",
    "WHERE \n",
    "\trank = 1\n",
    "ORDER BY region ASC"
   ]
  }
 ],
 "metadata": {
  "colab": {
   "name": "Welcome to DataCamp Workspaces.ipynb",
   "provenance": []
  },
  "kernelspec": {
   "display_name": "Python 3 (ipykernel)",
   "language": "python",
   "name": "python3"
  },
  "language_info": {
   "codemirror_mode": {
    "name": "ipython",
    "version": 3
   },
   "file_extension": ".py",
   "mimetype": "text/x-python",
   "name": "python",
   "nbconvert_exporter": "python",
   "pygments_lexer": "ipython3",
   "version": "3.8.10"
  }
 },
 "nbformat": 4,
 "nbformat_minor": 5
}
